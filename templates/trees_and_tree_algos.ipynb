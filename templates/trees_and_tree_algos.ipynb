{
 "cells": [
  {
   "cell_type": "code",
   "execution_count": 2,
   "metadata": {},
   "outputs": [],
   "source": [
    "# clear system ram\n",
    "%reset -f"
   ]
  },
  {
   "attachments": {},
   "cell_type": "markdown",
   "metadata": {},
   "source": [
    "# Tree Data Structures\n",
    "Non-linear data structures that are stored in a hierarchical format"
   ]
  },
  {
   "attachments": {},
   "cell_type": "markdown",
   "metadata": {},
   "source": [
    "## Binary Tree\n",
    "A tree structure where each parent node can have a maximum of 2 child nodes.\n",
    "\n",
    "Traversals:\n",
    "* Pre-order: root node -> left child -> right child\n",
    "* In-order: left child -> root node -> right child\n",
    "* Post-order: left child -> right child -> root node"
   ]
  },
  {
   "cell_type": "code",
   "execution_count": 4,
   "metadata": {},
   "outputs": [],
   "source": [
    "# DSAA slides implementation\n",
    "class BinaryTree:\n",
    "    def __init__(self, key, leftTree = None, rightTree = None):\n",
    "        self.key = key\n",
    "        self.leftTree = leftTree\n",
    "        self.rightTree = rightTree\n",
    "\n",
    "    # setter and getter functions for data in node\n",
    "    def setKey(self, key):\n",
    "        self.key = key\n",
    "\n",
    "    def getKey(self):\n",
    "        return self.key\n",
    "\n",
    "    # go into next left/right node\n",
    "    def getLeftTree(self):\n",
    "        return self.leftTree\n",
    "\n",
    "    def getRightTree(self):\n",
    "        return self.rightTree\n",
    "\n",
    "    # add a child node to left/right side of current node\n",
    "    # if a child node already exists, add the new node in between the current node and current child node\n",
    "    def insertLeft(self, key):\n",
    "        if self.leftTree == None:\n",
    "            self.leftTree = BinaryTree(key)\n",
    "        else:\n",
    "            t =BinaryTree(key)\n",
    "            self.leftTree , t.leftTree = t, self.leftTree\n",
    "\n",
    "    def insertRight(self, key):\n",
    "        if self.rightTree == None:\n",
    "            self.rightTree = BinaryTree(key)\n",
    "        else:\n",
    "            t =BinaryTree(key)\n",
    "            self.rightTree , t.rightTree = t, self.rightTree\n",
    "\n",
    "    ## functions to traverse binary tree\n",
    "    # preorder traversal\n",
    "    def printPreorder(self, level=0):\n",
    "        print(str(level*'-') + str(self.key))\n",
    "        if self.leftTree != None:\n",
    "            self.leftTree.printPreorder(level+1)\n",
    "        if self.rightTree != None:\n",
    "            self.rightTree.printPreorder(level+1)\n",
    "\n",
    "    # inorder traversal\n",
    "    def printInorder(self, level=0):\n",
    "        if self.leftTree != None:\n",
    "            self.leftTree.printInorder(level+1)\n",
    "        print(str(level*'-') + str(self.key))\n",
    "\n",
    "        if self.rightTree != None:\n",
    "            self.rightTree.printInorder(level+1)\n",
    "\n",
    "    # postorder traversal\n",
    "    def printPostorder(self, level=0):\n",
    "        if self.leftTree != None:\n",
    "            self.leftTree.printPostorder(level+1)\n",
    "        if self.rightTree != None:\n",
    "            self.rightTree.printPostorder(level+1)\n",
    "\n",
    "        print(str(level*'-') + str(self.key))"
   ]
  },
  {
   "cell_type": "code",
   "execution_count": 5,
   "metadata": {},
   "outputs": [],
   "source": [
    "leftTree = BinaryTree(\n",
    "        'Chapter 1',\n",
    "        BinaryTree('Section 1.1'),\n",
    "        BinaryTree('Section 1.2', BinaryTree('Section 1.2.1'), None)\n",
    "    )\n",
    "\n",
    "rightTree = BinaryTree(\n",
    "        'Chapter 2',\n",
    "        BinaryTree('Section 2.1'),\n",
    "        BinaryTree('Section 2.2', BinaryTree('Section 2.2.1'), BinaryTree('Section 2.2.2')) \n",
    "    )\n",
    "\n",
    "tree = BinaryTree('Contents', leftTree, rightTree)"
   ]
  },
  {
   "cell_type": "code",
   "execution_count": 10,
   "metadata": {},
   "outputs": [
    {
     "name": "stdout",
     "output_type": "stream",
     "text": [
      "Contents\n",
      "-Chapter 1\n",
      "--Section 1.1\n",
      "--Section 1.2\n",
      "---Section 1.2.1\n",
      "-Chapter 2\n",
      "--Section 2.1\n",
      "--Section 2.2\n",
      "---Section 2.2.1\n",
      "---Section 2.2.2\n"
     ]
    }
   ],
   "source": [
    "tree.printPreorder()"
   ]
  },
  {
   "cell_type": "code",
   "execution_count": 3,
   "metadata": {},
   "outputs": [
    {
     "name": "stdout",
     "output_type": "stream",
     "text": [
      "--Section 1.1\n",
      "-Chapter 1\n",
      "---Section 1.2.1\n",
      "--Section 1.2\n",
      "Contents\n",
      "--Section 2.1\n",
      "-Chapter 2\n",
      "---Section 2.2.1\n",
      "--Section 2.2\n",
      "---Section 2.2.2\n"
     ]
    }
   ],
   "source": [
    "tree.printInorder()"
   ]
  },
  {
   "cell_type": "code",
   "execution_count": 6,
   "metadata": {},
   "outputs": [
    {
     "name": "stdout",
     "output_type": "stream",
     "text": [
      "--Section 1.1\n",
      "---Section 1.2.1\n",
      "--Section 1.2\n",
      "-Chapter 1\n",
      "--Section 2.1\n",
      "---Section 2.2.1\n",
      "---Section 2.2.2\n",
      "--Section 2.2\n",
      "-Chapter 2\n",
      "Contents\n"
     ]
    }
   ],
   "source": [
    "tree.printPostorder()"
   ]
  },
  {
   "attachments": {},
   "cell_type": "markdown",
   "metadata": {},
   "source": [
    "## Parse Tree\n",
    "This is a parse tree to evaluate expressions, taken from DSAA slides"
   ]
  },
  {
   "cell_type": "code",
   "execution_count": null,
   "metadata": {},
   "outputs": [],
   "source": [
    "# simple stack implementation\n",
    "class Stack:\n",
    "    def __init__(self):\n",
    "        self.__list = []\n",
    "\n",
    "    def getList(self):\n",
    "        return self.__list\n",
    "\n",
    "    def isEmpty(self):\n",
    "        return self.__list == []\n",
    "\n",
    "    def size(self):\n",
    "        return len(self.__list)\n",
    "\n",
    "    def clear(self):\n",
    "        self.__list().clear()\n",
    "\n",
    "    def push(self, item):\n",
    "        self.__list.append(item)\n",
    "\n",
    "    def pop(self):\n",
    "        if self.isEmpty():\n",
    "            return None\n",
    "        else:\n",
    "            return self.__list.pop()\n",
    "\n",
    "    def get(self):\n",
    "        if self.isEmpty():\n",
    "            return None\n",
    "        else:\n",
    "            return self.__list[0]\n",
    "\n",
    "    def __str__(self):\n",
    "        str = \"<\"\n",
    "        for item in self.__list:\n",
    "            str += f\" {item} \"\n",
    "        str += \">\"\n",
    "        return str"
   ]
  },
  {
   "cell_type": "code",
   "execution_count": 19,
   "metadata": {},
   "outputs": [],
   "source": [
    "# parse tree to evaluate expressions\n",
    "def buildParseTree(exp):\n",
    "    tokens = exp.split()\n",
    "    stack = Stack()\n",
    "    tree = BinaryTree('?')\n",
    "    stack.push(tree)\n",
    "    currentTree = tree\n",
    "    for t in tokens:\n",
    "        # RULE 1: If token is '(' add a new node as left child\n",
    "        # and descend into that node\n",
    "        if t == '(':\n",
    "            currentTree.insertLeft('?')\n",
    "            stack.push(currentTree)\n",
    "            currentTree = currentTree.getLeftTree()\n",
    "\n",
    "        # RULE 2: If token is operator set key of current node\n",
    "        # to that operator and add a new node as right child\n",
    "        # and descend into that node\n",
    "        elif t in ['+', '-', '*', '/']:\n",
    "            currentTree.setKey(t)\n",
    "            currentTree.insertRight('?')\n",
    "            stack.push(currentTree)\n",
    "            currentTree = currentTree.getRightTree()\n",
    "        \n",
    "        # RULE 3: If token is number, set key of the current node\n",
    "        # to that number and return to parent\n",
    "        elif t not in ['+', '-', '*', '/', ')'] :\n",
    "            currentTree.setKey(int(t))\n",
    "            parent = stack.pop()\n",
    "            currentTree = parent\n",
    "\n",
    "        # RULE 4: If token is ')' go to parent of current node\n",
    "        elif t == ')':\n",
    "            currentTree = stack.pop()\n",
    "        else:\n",
    "            raise ValueError\n",
    "        \n",
    "    return tree\n",
    "\n",
    "def evaluate(tree):\n",
    "    leftTree = tree.getLeftTree()\n",
    "    rightTree = tree.getRightTree()\n",
    "    op = (tree.getKey())\n",
    "    if leftTree != None and rightTree != None:\n",
    "        if op == '+':\n",
    "            return evaluate(leftTree) + evaluate(rightTree)\n",
    "        elif op == '-':\n",
    "            return evaluate(leftTree) - evaluate(rightTree)\n",
    "        elif op == '*':\n",
    "            return evaluate(leftTree) * evaluate(rightTree)\n",
    "        elif op == '/':\n",
    "            return evaluate(leftTree) / evaluate(rightTree)\n",
    "    else:\n",
    "        return tree.getKey()"
   ]
  },
  {
   "cell_type": "code",
   "execution_count": 20,
   "metadata": {},
   "outputs": [
    {
     "name": "stdout",
     "output_type": "stream",
     "text": [
      "-2\n",
      "+\n",
      "--4\n",
      "-*\n",
      "--5\n",
      "The expression: ( 2 + ( 4 * 5 ) ) evaluates to: 22\n"
     ]
    }
   ],
   "source": [
    "exp = '( 2 + ( 4 * 5 ) )'\n",
    "tree = buildParseTree(exp)\n",
    "tree.printInorder(0)\n",
    "print(f'The expression: {exp} evaluates to: {evaluate(tree)}')"
   ]
  },
  {
   "attachments": {},
   "cell_type": "markdown",
   "metadata": {},
   "source": [
    "## Binary Search Tree"
   ]
  },
  {
   "cell_type": "code",
   "execution_count": 22,
   "metadata": {},
   "outputs": [],
   "source": [
    "class BST(BinaryTree):\n",
    "    def __init__(self,key, leftTree = None, rightTree = None):\n",
    "        super().__init__(key,leftTree,rightTree)\n",
    "\n",
    "    def add(self, key):\n",
    "        curNode = self\n",
    "        while True:\n",
    "            if key < curNode.key:\n",
    "                if curNode.leftTree == None:\n",
    "                    curNode.leftTree = BST(key)\n",
    "                    break\n",
    "                else:\n",
    "                    curNode= curNode.leftTree\n",
    "            elif key > curNode.key:\n",
    "                if curNode.rightTree == None:\n",
    "                    curNode.rightTree = BST(key)\n",
    "                    break\n",
    "                else:\n",
    "                    curNode= curNode.rightTree"
   ]
  },
  {
   "cell_type": "code",
   "execution_count": 23,
   "metadata": {},
   "outputs": [
    {
     "name": "stdout",
     "output_type": "stream",
     "text": [
      "--25\n",
      "-30\n",
      "55\n",
      "---59\n",
      "--64\n",
      "---70\n",
      "----71\n",
      "-73\n",
      "--89\n"
     ]
    }
   ],
   "source": [
    "tree = BST(55)\n",
    "tree.add(30)\n",
    "tree.add(73)\n",
    "tree.add(64)\n",
    "tree.add(89)\n",
    "tree.add(59)\n",
    "tree.add(70)\n",
    "tree.add(25)\n",
    "tree.add(71)\n",
    "tree.printInorder(0)"
   ]
  }
 ],
 "metadata": {
  "kernelspec": {
   "display_name": "Python 3",
   "language": "python",
   "name": "python3"
  },
  "language_info": {
   "codemirror_mode": {
    "name": "ipython",
    "version": 3
   },
   "file_extension": ".py",
   "mimetype": "text/x-python",
   "name": "python",
   "nbconvert_exporter": "python",
   "pygments_lexer": "ipython3",
   "version": "3.9.13 (tags/v3.9.13:6de2ca5, May 17 2022, 16:36:42) [MSC v.1929 64 bit (AMD64)]"
  },
  "orig_nbformat": 4,
  "vscode": {
   "interpreter": {
    "hash": "dc74c1033181c1f2405b19398a2a53768ebcc1f3ca02e9492155f5b5d4b8f544"
   }
  }
 },
 "nbformat": 4,
 "nbformat_minor": 2
}
