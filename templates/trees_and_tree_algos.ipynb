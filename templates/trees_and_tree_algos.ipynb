{
 "cells": [
  {
   "cell_type": "code",
   "execution_count": 2,
   "metadata": {},
   "outputs": [],
   "source": [
    "# clear system ram\n",
    "%reset -f"
   ]
  },
  {
   "attachments": {},
   "cell_type": "markdown",
   "metadata": {},
   "source": [
    "# Tree Data Structures\n",
    "Non-linear data structures that are stored in a hierarchical format"
   ]
  },
  {
   "attachments": {},
   "cell_type": "markdown",
   "metadata": {},
   "source": [
    "## Binary Tree\n",
    "A tree structure where each parent node can have a maximum of 2 child nodes.\n",
    "\n",
    "Traversals:\n",
    "* Pre-order: root node -> left child -> right child\n",
    "* In-order: left child -> root node -> right child\n",
    "* Post-order: left child -> right child -> root node"
   ]
  },
  {
   "cell_type": "code",
   "execution_count": 4,
   "metadata": {},
   "outputs": [],
   "source": [
    "# DSAA slides implementation\n",
    "class BinaryTree:\n",
    "    def __init__(self, key, leftTree = None, rightTree = None):\n",
    "        self.key = key\n",
    "        self.leftTree = leftTree\n",
    "        self.rightTree = rightTree\n",
    "\n",
    "    # setter and getter functions for data in node\n",
    "    def setKey(self, key):\n",
    "        self.key = key\n",
    "\n",
    "    def getKey(self):\n",
    "        return self.key\n",
    "\n",
    "    # go into next left/right node\n",
    "    def getLeftTree(self):\n",
    "        return self.leftTree\n",
    "\n",
    "    def getRightTree(self):\n",
    "        return self.rightTree\n",
    "\n",
    "    # add a child node to left/right side of current node\n",
    "    # if a child node already exists, add the new node in between the current node and current child node\n",
    "    def insertLeft(self, key):\n",
    "        if self.leftTree == None:\n",
    "            self.leftTree = BinaryTree(key)\n",
    "        else:\n",
    "            t =BinaryTree(key)\n",
    "            self.leftTree , t.leftTree = t, self.leftTree\n",
    "\n",
    "    def insertRight(self, key):\n",
    "        if self.rightTree == None:\n",
    "            self.rightTree = BinaryTree(key)\n",
    "        else:\n",
    "            t =BinaryTree(key)\n",
    "            self.rightTree , t.rightTree = t, self.rightTree\n",
    "\n",
    "    ## functions to traverse binary tree\n",
    "    # preorder traversal\n",
    "    def printPreorder(self, level=0):\n",
    "        print(str(level*'-') + str(self.key))\n",
    "        if self.leftTree != None:\n",
    "            self.leftTree.printPreorder(level+1)\n",
    "        if self.rightTree != None:\n",
    "            self.rightTree.printPreorder(level+1)\n",
    "\n",
    "    # inorder traversal\n",
    "    def printInorder(self, level=0):\n",
    "        if self.leftTree != None:\n",
    "            self.leftTree.printInorder(level+1)\n",
    "        print(str(level*'-') + str(self.key))\n",
    "\n",
    "        if self.rightTree != None:\n",
    "            self.rightTree.printInorder(level+1)\n",
    "\n",
    "    # postorder traversal\n",
    "    def printPostorder(self, level=0):\n",
    "        if self.leftTree != None:\n",
    "            self.leftTree.printPostorder(level+1)\n",
    "        if self.rightTree != None:\n",
    "            self.rightTree.printPostorder(level+1)\n",
    "\n",
    "        print(str(level*'-') + str(self.key))"
   ]
  },
  {
   "cell_type": "code",
   "execution_count": 5,
   "metadata": {},
   "outputs": [],
   "source": [
    "leftTree = BinaryTree(\n",
    "        'Chapter 1',\n",
    "        BinaryTree('Section 1.1'),\n",
    "        BinaryTree('Section 1.2', BinaryTree('Section 1.2.1'), None)\n",
    "    )\n",
    "\n",
    "rightTree = BinaryTree(\n",
    "        'Chapter 2',\n",
    "        BinaryTree('Section 2.1'),\n",
    "        BinaryTree('Section 2.2', BinaryTree('Section 2.2.1'), BinaryTree('Section 2.2.2')) \n",
    "    )\n",
    "\n",
    "tree = BinaryTree('Contents', leftTree, rightTree)"
   ]
  },
  {
   "cell_type": "code",
   "execution_count": 10,
   "metadata": {},
   "outputs": [
    {
     "name": "stdout",
     "output_type": "stream",
     "text": [
      "Contents\n",
      "-Chapter 1\n",
      "--Section 1.1\n",
      "--Section 1.2\n",
      "---Section 1.2.1\n",
      "-Chapter 2\n",
      "--Section 2.1\n",
      "--Section 2.2\n",
      "---Section 2.2.1\n",
      "---Section 2.2.2\n"
     ]
    }
   ],
   "source": [
    "tree.printPreorder()"
   ]
  },
  {
   "cell_type": "code",
   "execution_count": 3,
   "metadata": {},
   "outputs": [
    {
     "name": "stdout",
     "output_type": "stream",
     "text": [
      "--Section 1.1\n",
      "-Chapter 1\n",
      "---Section 1.2.1\n",
      "--Section 1.2\n",
      "Contents\n",
      "--Section 2.1\n",
      "-Chapter 2\n",
      "---Section 2.2.1\n",
      "--Section 2.2\n",
      "---Section 2.2.2\n"
     ]
    }
   ],
   "source": [
    "tree.printInorder()"
   ]
  },
  {
   "cell_type": "code",
   "execution_count": 6,
   "metadata": {},
   "outputs": [
    {
     "name": "stdout",
     "output_type": "stream",
     "text": [
      "--Section 1.1\n",
      "---Section 1.2.1\n",
      "--Section 1.2\n",
      "-Chapter 1\n",
      "--Section 2.1\n",
      "---Section 2.2.1\n",
      "---Section 2.2.2\n",
      "--Section 2.2\n",
      "-Chapter 2\n",
      "Contents\n"
     ]
    }
   ],
   "source": [
    "tree.printPostorder()"
   ]
  },
  {
   "attachments": {},
   "cell_type": "markdown",
   "metadata": {},
   "source": [
    "## Parse Tree\n",
    "This is a parse tree to evaluate expressions, taken from DSAA slides"
   ]
  },
  {
   "cell_type": "code",
   "execution_count": 10,
   "metadata": {},
   "outputs": [],
   "source": [
    "# simple stack implementation\n",
    "class Stack:\n",
    "    def __init__(self):\n",
    "        self.__list = []\n",
    "\n",
    "    def getList(self):\n",
    "        return self.__list\n",
    "\n",
    "    def isEmpty(self):\n",
    "        return self.__list == []\n",
    "\n",
    "    def size(self):\n",
    "        return len(self.__list)\n",
    "\n",
    "    def clear(self):\n",
    "        self.__list().clear()\n",
    "\n",
    "    def push(self, item):\n",
    "        self.__list.append(item)\n",
    "\n",
    "    def pop(self):\n",
    "        if self.isEmpty():\n",
    "            return None\n",
    "        else:\n",
    "            return self.__list.pop()\n",
    "\n",
    "    def get(self):\n",
    "        if self.isEmpty():\n",
    "            return None\n",
    "        else:\n",
    "            return self.__list[0]\n",
    "\n",
    "    def __str__(self):\n",
    "        str = \"<\"\n",
    "        for item in self.__list:\n",
    "            str += f\" {item} \"\n",
    "        str += \">\"\n",
    "        return str"
   ]
  },
  {
   "cell_type": "code",
   "execution_count": 14,
   "metadata": {},
   "outputs": [],
   "source": [
    "# parse tree to evaluate expressions\n",
    "def buildParseTree(exp):\n",
    "    tokens = exp.split()\n",
    "    stack = Stack()\n",
    "    tree = BinaryTree('?')\n",
    "    stack.push(tree)\n",
    "    currentTree = tree\n",
    "    for t in tokens:\n",
    "        # RULE 1: If token is '(' add a new node as left child\n",
    "        # and descend into that node\n",
    "        if t == '(':\n",
    "            currentTree.insertLeft('?')\n",
    "            stack.push(currentTree)\n",
    "            currentTree = currentTree.getLeftTree()\n",
    "\n",
    "        # RULE 2: If token is operator set key of current node\n",
    "        # to that operator and add a new node as right child\n",
    "        # and descend into that node\n",
    "        elif t in ['+', '-', '*', '/']:\n",
    "            currentTree.setKey(t)\n",
    "            currentTree.insertRight('?')\n",
    "            stack.push(currentTree)\n",
    "            currentTree = currentTree.getRightTree()\n",
    "        \n",
    "        # RULE 3: If token is number, set key of the current node\n",
    "        # to that number and return to parent\n",
    "        elif t not in ['+', '-', '*', '/', ')'] :\n",
    "            currentTree.setKey(int(t))\n",
    "            parent = stack.pop()\n",
    "            currentTree = parent\n",
    "\n",
    "        # RULE 4: If token is ')' go to parent of current node\n",
    "        elif t == ')':\n",
    "            currentTree = stack.pop()\n",
    "        else:\n",
    "            raise ValueError\n",
    "        \n",
    "    return tree\n",
    "\n",
    "def evaluate(tree):\n",
    "    leftTree = tree.getLeftTree()\n",
    "    rightTree = tree.getRightTree()\n",
    "    op = tree.getKey()\n",
    "    if leftTree != None and rightTree != None:\n",
    "        if op == '+':\n",
    "            return evaluate(leftTree) + evaluate(rightTree)\n",
    "        elif op == '-':\n",
    "            return evaluate(leftTree) - evaluate(rightTree)\n",
    "        elif op == '*':\n",
    "            return evaluate(leftTree) * evaluate(rightTree)\n",
    "        elif op == '/':\n",
    "            return evaluate(leftTree) / evaluate(rightTree)\n",
    "        else:\n",
    "            return tree.getKey()"
   ]
  },
  {
   "cell_type": "code",
   "execution_count": 15,
   "metadata": {},
   "outputs": [
    {
     "name": "stdout",
     "output_type": "stream",
     "text": [
      "-2\n",
      "+\n",
      "--4\n",
      "-*\n",
      "--5\n"
     ]
    },
    {
     "ename": "AttributeError",
     "evalue": "'NoneType' object has no attribute 'getKey'",
     "output_type": "error",
     "traceback": [
      "\u001b[1;31m---------------------------------------------------------------------------\u001b[0m",
      "\u001b[1;31mAttributeError\u001b[0m                            Traceback (most recent call last)",
      "Cell \u001b[1;32mIn[15], line 4\u001b[0m\n\u001b[0;32m      2\u001b[0m tree \u001b[39m=\u001b[39m buildParseTree(exp)\n\u001b[0;32m      3\u001b[0m tree\u001b[39m.\u001b[39mprintInorder(\u001b[39m0\u001b[39m)\n\u001b[1;32m----> 4\u001b[0m \u001b[39mprint\u001b[39m(\u001b[39mf\u001b[39m\u001b[39m'\u001b[39m\u001b[39mThe expression: \u001b[39m\u001b[39m{\u001b[39;00mexp\u001b[39m}\u001b[39;00m\u001b[39m evaluates to: \u001b[39m\u001b[39m{\u001b[39;00mevaluate(tree)\u001b[39m}\u001b[39;00m\u001b[39m'\u001b[39m)\n",
      "Cell \u001b[1;32mIn[14], line 46\u001b[0m, in \u001b[0;36mevaluate\u001b[1;34m(tree)\u001b[0m\n\u001b[0;32m     44\u001b[0m \u001b[39mif\u001b[39;00m leftTree \u001b[39m!=\u001b[39m \u001b[39mNone\u001b[39;00m \u001b[39mand\u001b[39;00m rightTree \u001b[39m!=\u001b[39m \u001b[39mNone\u001b[39;00m:\n\u001b[0;32m     45\u001b[0m     \u001b[39mif\u001b[39;00m op \u001b[39m==\u001b[39m \u001b[39m'\u001b[39m\u001b[39m+\u001b[39m\u001b[39m'\u001b[39m:\n\u001b[1;32m---> 46\u001b[0m         \u001b[39mreturn\u001b[39;00m evaluate(leftTree)\u001b[39m.\u001b[39;49mgetKey() \u001b[39m+\u001b[39m evaluate(rightTree)\u001b[39m.\u001b[39mgetKey()\n\u001b[0;32m     47\u001b[0m     \u001b[39melif\u001b[39;00m op \u001b[39m==\u001b[39m \u001b[39m'\u001b[39m\u001b[39m-\u001b[39m\u001b[39m'\u001b[39m:\n\u001b[0;32m     48\u001b[0m         \u001b[39mreturn\u001b[39;00m evaluate(leftTree)\u001b[39m.\u001b[39mgetKey() \u001b[39m-\u001b[39m evaluate(rightTree)\u001b[39m.\u001b[39mgetKey()\n",
      "\u001b[1;31mAttributeError\u001b[0m: 'NoneType' object has no attribute 'getKey'"
     ]
    }
   ],
   "source": [
    "exp = '( 2 + ( 4 * 5 ) )'\n",
    "tree = buildParseTree(exp)\n",
    "tree.printInorder(0)\n",
    "print(f'The expression: {exp} evaluates to: {evaluate(tree)}')"
   ]
  }
 ],
 "metadata": {
  "kernelspec": {
   "display_name": "Python 3",
   "language": "python",
   "name": "python3"
  },
  "language_info": {
   "codemirror_mode": {
    "name": "ipython",
    "version": 3
   },
   "file_extension": ".py",
   "mimetype": "text/x-python",
   "name": "python",
   "nbconvert_exporter": "python",
   "pygments_lexer": "ipython3",
   "version": "3.11.1 (tags/v3.11.1:a7a450f, Dec  6 2022, 19:58:39) [MSC v.1934 64 bit (AMD64)]"
  },
  "orig_nbformat": 4,
  "vscode": {
   "interpreter": {
    "hash": "2a10b2f30db44083ac757f5d803a0052889a2f9f231b99f3992eda648fdfd9f5"
   }
  }
 },
 "nbformat": 4,
 "nbformat_minor": 2
}
