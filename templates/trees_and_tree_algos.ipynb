{
 "cells": [
  {
   "cell_type": "code",
   "execution_count": 2,
   "metadata": {},
   "outputs": [],
   "source": [
    "# clear system ram\n",
    "%reset -f"
   ]
  },
  {
   "attachments": {},
   "cell_type": "markdown",
   "metadata": {},
   "source": [
    "# Tree Data Structures\n",
    "Non-linear data structures that are stored in a hierarchical format"
   ]
  },
  {
   "attachments": {},
   "cell_type": "markdown",
   "metadata": {},
   "source": [
    "## Binary Tree\n",
    "A tree structure where each parent node can have a maximum of 2 child nodes.\n",
    "\n",
    "Traversals:\n",
    "* Pre-order: root node -> left child -> right child\n",
    "* In-order: left child -> root node -> right child\n",
    "* Post-order: left child -> right child -> root node"
   ]
  },
  {
   "cell_type": "code",
   "execution_count": 4,
   "metadata": {},
   "outputs": [],
   "source": [
    "# DSAA slides implementation\n",
    "class BinaryTree:\n",
    "    def __init__(self, key, leftTree = None, rightTree = None):\n",
    "        self.key = key\n",
    "        self.leftTree = leftTree\n",
    "        self.rightTree = rightTree\n",
    "\n",
    "    # setter and getter functions for data in node\n",
    "    def setKey(self, key):\n",
    "        self.key = key\n",
    "\n",
    "    def getKey(self):\n",
    "        return self.key\n",
    "\n",
    "    # go into next left/right node\n",
    "    def getLeftTree(self):\n",
    "        return self.leftTree\n",
    "\n",
    "    def getRightTree(self):\n",
    "        return self.rightTree\n",
    "\n",
    "    # add a child node to left/right side of current node\n",
    "    # if a child node already exists, add the new node in between the current node and current child node\n",
    "    def insertLeft(self, key):\n",
    "        if self.leftTree == None:\n",
    "            self.leftTree = BinaryTree(key)\n",
    "        else:\n",
    "            t =BinaryTree(key)\n",
    "            self.leftTree , t.leftTree = t, self.leftTree\n",
    "\n",
    "    def insertRight(self, key):\n",
    "        if self.rightTree == None:\n",
    "            self.rightTree = BinaryTree(key)\n",
    "        else:\n",
    "            t =BinaryTree(key)\n",
    "            self.rightTree , t.rightTree = t, self.rightTree\n",
    "\n",
    "    ## functions to traverse binary tree\n",
    "    # preorder traversal\n",
    "    def printPreorder(self, level=0):\n",
    "        print(str(level*'-') + str(self.key))\n",
    "        if self.leftTree != None:\n",
    "            self.leftTree.printPreorder(level+1)\n",
    "        if self.rightTree != None:\n",
    "            self.rightTree.printPreorder(level+1)\n",
    "\n",
    "    # inorder traversal\n",
    "    def printInorder(self, level=0):\n",
    "        if self.leftTree != None:\n",
    "            self.leftTree.printInorder(level+1)\n",
    "        print(str(level*'-') + str(self.key))\n",
    "\n",
    "        if self.rightTree != None:\n",
    "            self.rightTree.printInorder(level+1)\n",
    "\n",
    "    # postorder traversal\n",
    "    def printPostorder(self, level=0):\n",
    "        if self.leftTree != None:\n",
    "            self.leftTree.printPostorder(level+1)\n",
    "        if self.rightTree != None:\n",
    "            self.rightTree.printPostorder(level+1)\n",
    "\n",
    "        print(str(level*'-') + str(self.key))"
   ]
  },
  {
   "cell_type": "code",
   "execution_count": 5,
   "metadata": {},
   "outputs": [],
   "source": [
    "leftTree = BinaryTree(\n",
    "        'Chapter 1',\n",
    "        BinaryTree('Section 1.1'),\n",
    "        BinaryTree('Section 1.2', BinaryTree('Section 1.2.1'), None)\n",
    "    )\n",
    "\n",
    "rightTree = BinaryTree(\n",
    "        'Chapter 2',\n",
    "        BinaryTree('Section 2.1'),\n",
    "        BinaryTree('Section 2.2', BinaryTree('Section 2.2.1'), BinaryTree('Section 2.2.2')) \n",
    "    )\n",
    "\n",
    "tree = BinaryTree('Contents', leftTree, rightTree)"
   ]
  },
  {
   "cell_type": "code",
   "execution_count": 10,
   "metadata": {},
   "outputs": [
    {
     "name": "stdout",
     "output_type": "stream",
     "text": [
      "Contents\n",
      "-Chapter 1\n",
      "--Section 1.1\n",
      "--Section 1.2\n",
      "---Section 1.2.1\n",
      "-Chapter 2\n",
      "--Section 2.1\n",
      "--Section 2.2\n",
      "---Section 2.2.1\n",
      "---Section 2.2.2\n"
     ]
    }
   ],
   "source": [
    "tree.printPreorder()"
   ]
  },
  {
   "cell_type": "code",
   "execution_count": 3,
   "metadata": {},
   "outputs": [
    {
     "name": "stdout",
     "output_type": "stream",
     "text": [
      "--Section 1.1\n",
      "-Chapter 1\n",
      "---Section 1.2.1\n",
      "--Section 1.2\n",
      "Contents\n",
      "--Section 2.1\n",
      "-Chapter 2\n",
      "---Section 2.2.1\n",
      "--Section 2.2\n",
      "---Section 2.2.2\n"
     ]
    }
   ],
   "source": [
    "tree.printInorder()"
   ]
  },
  {
   "cell_type": "code",
   "execution_count": 6,
   "metadata": {},
   "outputs": [
    {
     "name": "stdout",
     "output_type": "stream",
     "text": [
      "--Section 1.1\n",
      "---Section 1.2.1\n",
      "--Section 1.2\n",
      "-Chapter 1\n",
      "--Section 2.1\n",
      "---Section 2.2.1\n",
      "---Section 2.2.2\n",
      "--Section 2.2\n",
      "-Chapter 2\n",
      "Contents\n"
     ]
    }
   ],
   "source": [
    "tree.printPostorder()"
   ]
  }
 ],
 "metadata": {
  "kernelspec": {
   "display_name": "Python 3",
   "language": "python",
   "name": "python3"
  },
  "language_info": {
   "codemirror_mode": {
    "name": "ipython",
    "version": 3
   },
   "file_extension": ".py",
   "mimetype": "text/x-python",
   "name": "python",
   "nbconvert_exporter": "python",
   "pygments_lexer": "ipython3",
   "version": "3.11.1"
  },
  "orig_nbformat": 4,
  "vscode": {
   "interpreter": {
    "hash": "2a10b2f30db44083ac757f5d803a0052889a2f9f231b99f3992eda648fdfd9f5"
   }
  }
 },
 "nbformat": 4,
 "nbformat_minor": 2
}
