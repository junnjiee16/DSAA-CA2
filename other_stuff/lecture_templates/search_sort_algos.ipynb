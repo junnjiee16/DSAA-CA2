{
 "cells": [
  {
   "cell_type": "code",
   "execution_count": 9,
   "metadata": {},
   "outputs": [],
   "source": [
    "# clear system ram\n",
    "%reset -f"
   ]
  },
  {
   "attachments": {},
   "cell_type": "markdown",
   "metadata": {},
   "source": [
    "# Searching Linear Data Structures\n",
    "Two of the popular searching methods for linear data structures.\n",
    "* Linear Search\n",
    "* Binary Search\n",
    "\n",
    "Some other algorithms not covered are Ternary Search, Jump Search, etc. More searching algorithms can be found [here](https://www.geeksforgeeks.org/searching-algorithms/?ref=lbp)"
   ]
  },
  {
   "cell_type": "code",
   "execution_count": 10,
   "metadata": {},
   "outputs": [],
   "source": [
    "# unsorted array\n",
    "unsorted_arr = [5,1,3,4,3,2]\n",
    "\n",
    "# sorted array\n",
    "sorted_arr = [1,2,3,3,4,5]\n",
    "sorted_arr2 = [1,2,3,4,5]"
   ]
  },
  {
   "attachments": {},
   "cell_type": "markdown",
   "metadata": {},
   "source": [
    "## Linear/Sequential Search\n",
    "Search by traversing through the whole array sequentially\n",
    "\n",
    "* Time Complexity: O(n)"
   ]
  },
  {
   "cell_type": "code",
   "execution_count": 11,
   "metadata": {},
   "outputs": [
    {
     "name": "stdout",
     "output_type": "stream",
     "text": [
      "Found at index 5\n"
     ]
    }
   ],
   "source": [
    "# find this number\n",
    "num = 2\n",
    "\n",
    "# using python in statement\n",
    "if num in unsorted_arr:\n",
    "    print(f\"Found at index {unsorted_arr.index(num)}\")"
   ]
  },
  {
   "attachments": {},
   "cell_type": "markdown",
   "metadata": {},
   "source": [
    "## Binary Search\n",
    "This is a divide and conquer method and only can be used on a sorted list. The algorithm halves the search space at every iteration by comparing the target element to the element in the middle and then deciding which half of the list to use at the next iteration.\n",
    "\n",
    "* Time Complexity: O(log n)"
   ]
  },
  {
   "cell_type": "code",
   "execution_count": 5,
   "metadata": {},
   "outputs": [],
   "source": [
    "def binarySearch(arr, target):\n",
    "    while True:\n",
    "        midIndex = int(len(arr) / 2)\n",
    "\n",
    "        if len(arr) == 0: # no elements in array\n",
    "            return False\n",
    "\n",
    "        if target == arr[midIndex]: # found target\n",
    "            return True\n",
    "\n",
    "        if target < arr[midIndex]: # target is smaller, use left side\n",
    "            arr = arr[:midIndex]\n",
    "\n",
    "        else: # use right side\n",
    "            arr = arr[midIndex+1:]"
   ]
  },
  {
   "cell_type": "code",
   "execution_count": 13,
   "metadata": {},
   "outputs": [
    {
     "data": {
      "text/plain": [
       "True"
      ]
     },
     "execution_count": 13,
     "metadata": {},
     "output_type": "execute_result"
    }
   ],
   "source": [
    "binarySearch(sorted_arr2, 1)"
   ]
  },
  {
   "attachments": {},
   "cell_type": "markdown",
   "metadata": {},
   "source": [
    "## Searching in hash tables\n",
    "Hash tables have a amortized O(1) look-up time (due to possible hash collisions). It is implemented internally in Python as a dictionary. The constant look up time is due to the mapping of key-value pairs"
   ]
  },
  {
   "cell_type": "code",
   "execution_count": null,
   "metadata": {},
   "outputs": [],
   "source": [
    "# DSAA Slides implementation\n",
    "class HashTable:\n",
    "    def __init__(self,size):\n",
    "        self.size = size\n",
    "        self.keys = [None] * self.size\n",
    "        self.buckets = [None] * self.size\n",
    "\n",
    "    # A simple remainder method to convert key to index\n",
    "    def hashFunction(self, key ):\n",
    "        return key % self.size\n",
    "    \n",
    "    # Deal with collision resolution by means of linear probing with a 'plus 1' rehash\n",
    "    def rehashFunction(self, oldHash ):\n",
    "        return (oldHash + 1) % self.size\n",
    "\n",
    "    def __setitem__(self, key, value):\n",
    "        index = self.hashFunction(key)\n",
    "        startIndex = index\n",
    "        while True:\n",
    "            # If bucket is empty then just use it\n",
    "            if self.buckets[index] == None:\n",
    "                self.buckets[index] = value\n",
    "                self.keys[index] = key\n",
    "                break\n",
    "            # If not empty and the same key then just overwrite\n",
    "            else:\n",
    "                if self.keys[index] == key:\n",
    "                    self.buckets[index] = value\n",
    "                    break\n",
    "                # Look for another available bucket\n",
    "                else: \n",
    "                    index = self.rehashFunction(index)\n",
    "                    # We must stop if no more buckets\n",
    "                    if index == startIndex:\n",
    "                        break\n",
    "\n",
    "    def __getitem__(self,key):\n",
    "        index = self.hashFunction(key)\n",
    "        startIndex = index\n",
    "        while True:\n",
    "            if self.keys [index] == key:\n",
    "                # Will be mostly the case unless value had been previously rehashed at insertion time\n",
    "                return self.buckets[index]\n",
    "            else: \n",
    "                # Value for the key is somewhere else (due to imperfect hash function)\n",
    "                index = self.rehashFunction(index)\n",
    "                if index == startIndex:\n",
    "                    return None\n",
    "\n",
    "\n",
    "# MAIN\n",
    "data = [\n",
    "    {\"id\": 1000, \"name\": \"Rai Rao\"},\n",
    "    {\"id\": 1486, \"name\": \"Liz Cruz\"},\n",
    "    {\"id\": 2000, \"name\": \"Adam Azis\"},\n",
    "    {\"id\": 1488, \"name\": \"John Tan\"},\n",
    "    {\"id\": 3001, \"name\": \"Mary Oh\"},\n",
    "]\n",
    "\n",
    "size = 5\n",
    "studentTable = HashTable(size)\n",
    "print('Keys:\\t\\t',studentTable.keys)\n",
    "print('Buckets:\\t',studentTable.buckets,\"\\n\")\n",
    "\n",
    "\n",
    "for student in data:\n",
    "    studentTable[student[\"id\"]] = student[\"name\"]\n",
    "    print('Keys:\\t\\t',studentTable.keys)\n",
    "    print('Buckets:\\t',studentTable.buckets,\"\\n\")\n",
    "\n",
    "for student in data:\n",
    "    print(student[\"id\"],studentTable[student[\"id\"]])\n",
    "\n",
    "print(8888,studentTable[8888])"
   ]
  },
  {
   "attachments": {},
   "cell_type": "markdown",
   "metadata": {},
   "source": [
    "# Sorting Linear Data Structures\n",
    "This section covers some popular sorting algorithms:\n",
    "* Bubble sort\n",
    "* Insertion sort\n",
    "* Selection sort\n",
    "* Quick sort\n",
    "* Merge sort\n",
    "\n",
    "Some other algorithms not covered are Radix Sort, Bucket Sort, Heap Sort, etc. More sorting algorithms can be found [here](https://www.geeksforgeeks.org/sorting-algorithms/)"
   ]
  },
  {
   "attachments": {},
   "cell_type": "markdown",
   "metadata": {},
   "source": [
    "## Bubble Sort\n",
    "Sorts the list by repeatedly swapping adjacent elements (elements that are beside each other) at every iteration if they are in the wrong order\n",
    "\n",
    "* Best Time Complexity: O(n), when the list is already sorted\n",
    "* Avg/Worst Time Complexity: O(n^2)"
   ]
  },
  {
   "cell_type": "code",
   "execution_count": 1,
   "metadata": {},
   "outputs": [],
   "source": [
    "def bubbleSort(arr):\n",
    "    # edge case where array is empty\n",
    "    if len(arr) == 0:\n",
    "        return arr\n",
    "\n",
    "    # to optimize the algorithm, end the function if array is already sorted\n",
    "    sorted = False\n",
    "    while sorted == False:\n",
    "        sorted = True\n",
    "\n",
    "        for i in range(len(arr) - 1): # if at least 1 swap is made, set sorted back to false\n",
    "            if arr[i] > arr[i + 1]:\n",
    "                arr[i], arr[i + 1] = arr[i + 1], arr[i]\n",
    "                sorted = False\n",
    "\n",
    "    return arr"
   ]
  },
  {
   "cell_type": "code",
   "execution_count": 3,
   "metadata": {},
   "outputs": [
    {
     "data": {
      "text/plain": [
       "[1, 2, 3, 4, 5, 6]"
      ]
     },
     "execution_count": 3,
     "metadata": {},
     "output_type": "execute_result"
    }
   ],
   "source": [
    "# array that produces the worst time complexity\n",
    "arr = [6,5,4,3,2,1]\n",
    "\n",
    "bubbleSort(arr)"
   ]
  },
  {
   "attachments": {},
   "cell_type": "markdown",
   "metadata": {},
   "source": [
    "## Insertion Sort\n",
    "Sorts the list by iterating every element through the whole list, and placing it in the correct position of a virtual sorted list that is maintained on the left side of the list that has already been iterated through.\n",
    "\n",
    "* Best Time Complexity: O(n), when list is already sorted\n",
    "* Avg/Worst Time Complexity: O(n^2)"
   ]
  },
  {
   "cell_type": "code",
   "execution_count": 14,
   "metadata": {},
   "outputs": [],
   "source": [
    "def insertionSort(arr):\n",
    "    # edge case where array is empty\n",
    "    if len(arr) == 0:\n",
    "        return arr\n",
    "\n",
    "    for i in range(1, len(arr)):\n",
    "        element = arr[i]\n",
    "        j = i - 1\n",
    "\n",
    "        # if current element is out of place, find the position where the element belongs to in the sorted sub-array\n",
    "        while j >= 0 and element < arr[j]:\n",
    "            arr[j + 1] = arr[j]\n",
    "            j -= 1\n",
    "        \n",
    "        arr[j + 1] = element # place element in the sorted position\n",
    "\n",
    "    return arr"
   ]
  },
  {
   "cell_type": "code",
   "execution_count": 15,
   "metadata": {},
   "outputs": [
    {
     "data": {
      "text/plain": [
       "[1, 2, 3, 4, 5, 6]"
      ]
     },
     "execution_count": 15,
     "metadata": {},
     "output_type": "execute_result"
    }
   ],
   "source": [
    "# worst complexity is when the list is sorted in reversed order\n",
    "arr = [6,5,4,3,2,1]\n",
    "\n",
    "insertionSort(arr)"
   ]
  },
  {
   "attachments": {},
   "cell_type": "markdown",
   "metadata": {},
   "source": [
    "## Selection Sort\n",
    "Sorts the list by choosing the smallest element on the right side of the list at every iteration, and then placing it on the left side.\n",
    "\n",
    "* Best Time Complexity: O(n^2), as the nested loops will always run even when elements are sorted"
   ]
  },
  {
   "cell_type": "code",
   "execution_count": 19,
   "metadata": {},
   "outputs": [],
   "source": [
    "def selectionSort(arr):\n",
    "    # edge case where array is empty\n",
    "    if len(arr) == 0:\n",
    "        return arr\n",
    "\n",
    "    for i in range(len(arr)):\n",
    "        # Find the smallest element in the unsorted array\n",
    "        id_of_smallest = i\n",
    "        for j in range(i+1, len(arr)):\n",
    "            if arr[j] < arr[id_of_smallest]:\n",
    "                id_of_smallest = j\n",
    "\n",
    "        # swap smallest element with current element at current index\n",
    "        arr[i], arr[id_of_smallest] = arr[id_of_smallest], arr[i]\n",
    "            \n",
    "    return arr"
   ]
  },
  {
   "cell_type": "code",
   "execution_count": 20,
   "metadata": {},
   "outputs": [
    {
     "data": {
      "text/plain": [
       "[1, 2, 3, 4, 5, 6]"
      ]
     },
     "execution_count": 20,
     "metadata": {},
     "output_type": "execute_result"
    }
   ],
   "source": [
    "arr = [6,5,4,3,2,1]\n",
    "\n",
    "selectionSort(arr)"
   ]
  },
  {
   "attachments": {},
   "cell_type": "markdown",
   "metadata": {},
   "source": [
    "## Quick Sort\n",
    "A divide and conquer algorithm. Quick Sort breaks down the main array into smaller sub-arrays by sorting the elements around a chosen pivot element, the elements bigger than the pivot are to the right, while the elements smaller than the pivot are to the left. The algorithm recursively calls itself and sorts the partitions until the array is fully sorted.\n",
    "\n",
    "Time complexity depends on the pivot element chosen. If the pivot element is not close to the median element in the list, it will result in a unbalanced recursive call tree, with 1 branch deeper than the other, which can greatly affect the time complexity of the algorithm.\n",
    "\n",
    "Quick Sort is an in-place algorithm:\n",
    "* Best/Average Time Complexity: O(nlog n)\n",
    "* Worst Time Complexity: O(n^2)"
   ]
  },
  {
   "cell_type": "code",
   "execution_count": 47,
   "metadata": {},
   "outputs": [],
   "source": [
    "# main function to recursively call quicksort\n",
    "def quickSort(arr, left, right):\n",
    "    if left < right:\n",
    "        # recursively call quicksort on partitioned sub-arrays\n",
    "        partition_idx = partition(arr, left, right)\n",
    "        quickSort(arr, left, partition_idx - 1)\n",
    "        quickSort(arr, partition_idx + 1, right)\n",
    "\n",
    "    return arr\n",
    "\n",
    "# helper function to partition elements in the array\n",
    "def partition(arr, left, right):\n",
    "\n",
    "    # i is set to the first element in the array\n",
    "    i = left\n",
    "\n",
    "    # use last element as pivot\n",
    "    pivot = arr[right]\n",
    "\n",
    "    # loop thorugh elements from start to end\n",
    "    for j in range(left, right):\n",
    "\n",
    "        # if an element is smaller than the pivot, swap it with pointer i\n",
    "        if arr[j] <= pivot:\n",
    "            # swap elements of the array\n",
    "            arr[i], arr[j] = arr[j], arr[i]\n",
    "            i += 1\n",
    "\n",
    "    # swap pivot and element at pointer i after partitioning is done\n",
    "    arr[i], arr[right] = arr[right], arr[i]\n",
    "\n",
    "    # return the index where the array is partitioned at\n",
    "    return i"
   ]
  },
  {
   "cell_type": "code",
   "execution_count": 52,
   "metadata": {},
   "outputs": [
    {
     "data": {
      "text/plain": [
       "[0, 1, 4, 6, 7, 9, 34, 56, 56, 58, 123]"
      ]
     },
     "execution_count": 52,
     "metadata": {},
     "output_type": "execute_result"
    }
   ],
   "source": [
    "arr = [1, 0, 58, 56, 7, 9, 123, 34, 4, 6, 56]\n",
    "quickSort(arr, 0, len(arr) - 1)"
   ]
  },
  {
   "attachments": {},
   "cell_type": "markdown",
   "metadata": {},
   "source": [
    "## Merge Sort\n",
    "This is another divide and conquer algorithm. Merge sort recursively breaks down the array into smaller sub-arrays and sorts the elements, before joining the sub-arrays back together then sorting it again.\n",
    "\n",
    "* Worst Time Complexity: O(n log n)\n",
    "* Space Complexity: O(n), merge sort is not a in-place sorting algorithm as it needs to use extra memory to store the sub-arrays while it is being sorted"
   ]
  },
  {
   "cell_type": "code",
   "execution_count": 56,
   "metadata": {},
   "outputs": [],
   "source": [
    "def mergeSort(arr):\n",
    "    # split the arrays into smaller sub-arrays\n",
    "    if len(arr) > 1:\n",
    "        mid = len(arr) // 2\n",
    "        left_arr = arr[:mid]\n",
    "        right_arr = arr[mid:]\n",
    "\n",
    "        mergeSort(left_arr)\n",
    "        mergeSort(right_arr)\n",
    "\n",
    "        ### sorting operation\n",
    "        # define pointers\n",
    "        i = 0 # left array pointer\n",
    "        j = 0 # right array pointer\n",
    "        k = 0 # sorted array pointer\n",
    "\n",
    "        # compare the elements of each sub-array\n",
    "        while i < len(left_arr) and j < len(right_arr):\n",
    "            if left_arr[i] < right_arr[j]:\n",
    "                arr[k] = left_arr[i]\n",
    "                i += 1\n",
    "            else:\n",
    "                arr[k] = right_arr[j]\n",
    "                j += 1\n",
    "            \n",
    "            k += 1\n",
    "\n",
    "        # when there are still elements in only 1 array, place them into the sorted array\n",
    "        while i < len(left_arr):\n",
    "            arr[k] = left_arr[i]\n",
    "            i += 1\n",
    "            k += 1\n",
    "\n",
    "        while j < len(right_arr):\n",
    "            arr[k] = right_arr[j]\n",
    "            j += 1\n",
    "            k += 1\n",
    "\n",
    "    return arr"
   ]
  },
  {
   "cell_type": "code",
   "execution_count": 57,
   "metadata": {},
   "outputs": [
    {
     "data": {
      "text/plain": [
       "[0, 1, 4, 6, 7, 9, 34, 56, 56, 58, 123]"
      ]
     },
     "execution_count": 57,
     "metadata": {},
     "output_type": "execute_result"
    }
   ],
   "source": [
    "arr = [1, 0, 58, 56, 7, 9, 123, 34, 4, 6, 56]\n",
    "mergeSort(arr)"
   ]
  }
 ],
 "metadata": {
  "kernelspec": {
   "display_name": "Python 3",
   "language": "python",
   "name": "python3"
  },
  "language_info": {
   "codemirror_mode": {
    "name": "ipython",
    "version": 3
   },
   "file_extension": ".py",
   "mimetype": "text/x-python",
   "name": "python",
   "nbconvert_exporter": "python",
   "pygments_lexer": "ipython3",
   "version": "3.11.1 (tags/v3.11.1:a7a450f, Dec  6 2022, 19:58:39) [MSC v.1934 64 bit (AMD64)]"
  },
  "orig_nbformat": 4,
  "vscode": {
   "interpreter": {
    "hash": "2a10b2f30db44083ac757f5d803a0052889a2f9f231b99f3992eda648fdfd9f5"
   }
  }
 },
 "nbformat": 4,
 "nbformat_minor": 2
}
